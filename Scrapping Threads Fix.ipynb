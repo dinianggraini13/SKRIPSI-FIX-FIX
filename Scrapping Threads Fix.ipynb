{
  "nbformat": 4,
  "nbformat_minor": 0,
  "metadata": {
    "colab": {
      "provenance": [],
      "authorship_tag": "ABX9TyPdfoHHXU8FzuKpl0TeGjEb",
      "include_colab_link": true
    },
    "kernelspec": {
      "name": "python3",
      "display_name": "Python 3"
    },
    "language_info": {
      "name": "python"
    }
  },
  "cells": [
    {
      "cell_type": "markdown",
      "metadata": {
        "id": "view-in-github",
        "colab_type": "text"
      },
      "source": [
        "<a href=\"https://colab.research.google.com/github/dinianggraini13/SKRIPSI-FIX-FIX/blob/main/Scrapping%20Threads%20Fix.ipynb\" target=\"_parent\"><img src=\"https://colab.research.google.com/assets/colab-badge.svg\" alt=\"Open In Colab\"/></a>"
      ]
    },
    {
      "cell_type": "code",
      "execution_count": null,
      "metadata": {
        "id": "cl6FiUgWHGgK"
      },
      "outputs": [],
      "source": [
        "!pip install -qq google-play-scraper"
      ]
    },
    {
      "cell_type": "code",
      "source": [
        "import json\n",
        "import pandas as pd\n",
        "from tqdm import tqdm\n",
        "from google_play_scraper import Sort, reviews, app\n",
        "\n",
        "from pygments import highlight\n",
        "from pygments.lexers import JsonLexer\n",
        "from pygments.formatters import TerminalFormatter"
      ],
      "metadata": {
        "id": "5jIRUC9SHU4t"
      },
      "execution_count": null,
      "outputs": []
    },
    {
      "cell_type": "code",
      "source": [
        "from google.colab import drive\n",
        "drive.mount('/content/gdrive', force_remount=True)\n",
        "path = \"gdrive/MyDrive/\""
      ],
      "metadata": {
        "colab": {
          "base_uri": "https://localhost:8080/"
        },
        "id": "I_kFWqKDH-Yu",
        "outputId": "ac47526a-5db1-4fb4-e6cb-eae4095c335b"
      },
      "execution_count": null,
      "outputs": [
        {
          "output_type": "stream",
          "name": "stdout",
          "text": [
            "Mounted at /content/gdrive\n"
          ]
        }
      ]
    },
    {
      "cell_type": "code",
      "source": [
        "app_packages = [\n",
        "    'com.instagram.barcelona'\n",
        "]"
      ],
      "metadata": {
        "id": "okJfrAL0Iv_j"
      },
      "execution_count": null,
      "outputs": []
    },
    {
      "cell_type": "code",
      "source": [
        "app_infos = []\n",
        "\n",
        "for application in tqdm(app_packages):\n",
        "  info = app(application, lang='en')\n",
        "  del info['comments']\n",
        "  app_infos.append(info)"
      ],
      "metadata": {
        "colab": {
          "base_uri": "https://localhost:8080/"
        },
        "id": "z96mWyTcK2J5",
        "outputId": "9d6fabf8-c222-46fa-90ef-2782f3510dfe"
      },
      "execution_count": null,
      "outputs": [
        {
          "output_type": "stream",
          "name": "stderr",
          "text": [
            "100%|██████████| 1/1 [00:00<00:00,  4.79it/s]\n"
          ]
        }
      ]
    },
    {
      "cell_type": "code",
      "source": [
        "from tqdm import tqdm\n",
        "from google_play_scraper import reviews, Sort\n",
        "from datetime import datetime\n",
        "\n",
        "app_reviews = []\n",
        "\n",
        "for ap in tqdm(app_packages):\n",
        "        for sort_order in [Sort.MOST_RELEVANT, Sort.NEWEST]:\n",
        "            rvs, _ = reviews(\n",
        "                ap,\n",
        "                lang='en',\n",
        "                sort=sort_order,\n",
        "                count= 20000\n",
        "            )\n",
        "\n",
        "            for r in rvs:\n",
        "                # Memastikan bahwa 'at' adalah dalam format string tanggal\n",
        "                if isinstance(r['at'], str):\n",
        "                    r['at'] = datetime.strptime(r['at'], \"%Y-%m-%dT%H:%M:%S.%fZ\")\n",
        "\n",
        "                # Menambahkan informasi order dan ID aplikasi\n",
        "                r['sortOrder'] = 'most_relevant'\n",
        "                r['appId'] = ap\n",
        "\n",
        "            # Memfilter ulasan berdasarkan tanggal (Juli hingga Agustus)\n",
        "            july_august_reviews = [\n",
        "                review for review in rvs\n",
        "                if isinstance(review['at'], datetime) and datetime(2023, 7, 1) <= review['at'] <= datetime(2023, 8, 31)\n",
        "            ]\n",
        "\n",
        "            app_reviews.extend(july_august_reviews)\n",
        "\n"
      ],
      "metadata": {
        "colab": {
          "base_uri": "https://localhost:8080/"
        },
        "id": "bJBsTevbLZE_",
        "outputId": "d4bb7e97-6dcb-4b88-979c-27fe9804caae"
      },
      "execution_count": null,
      "outputs": [
        {
          "output_type": "stream",
          "name": "stderr",
          "text": [
            "100%|██████████| 1/1 [01:03<00:00, 63.23s/it]\n"
          ]
        }
      ]
    },
    {
      "cell_type": "code",
      "source": [
        "app_reviews_df = pd.DataFrame(app_reviews)"
      ],
      "metadata": {
        "id": "18f9cUUwM9Jp"
      },
      "execution_count": null,
      "outputs": []
    },
    {
      "cell_type": "code",
      "source": [
        "app_reviews_df = app_reviews_df.sort_values(['appId','at'])"
      ],
      "metadata": {
        "id": "7CGbIBTYNE13"
      },
      "execution_count": null,
      "outputs": []
    },
    {
      "cell_type": "code",
      "source": [
        "app_reviews_df.to_csv(path+'hasilreviews.csv', index=None, header=True)"
      ],
      "metadata": {
        "id": "3QVWBOsANTat"
      },
      "execution_count": null,
      "outputs": []
    },
    {
      "cell_type": "code",
      "source": [
        "len(app_reviews)"
      ],
      "metadata": {
        "colab": {
          "base_uri": "https://localhost:8080/"
        },
        "id": "unz2O9vdQPJg",
        "outputId": "89c2e90b-90b0-4ec9-b344-7e3b34951894"
      },
      "execution_count": null,
      "outputs": [
        {
          "output_type": "execute_result",
          "data": {
            "text/plain": [
              "34885"
            ]
          },
          "metadata": {},
          "execution_count": 131
        }
      ]
    },
    {
      "cell_type": "code",
      "source": [
        "app_reviews_df.head()"
      ],
      "metadata": {
        "colab": {
          "base_uri": "https://localhost:8080/",
          "height": 556
        },
        "id": "jjnCw5bWN5h0",
        "outputId": "b9f381c9-7a73-4ff1-c90a-57a597c52fb2"
      },
      "execution_count": null,
      "outputs": [
        {
          "output_type": "execute_result",
          "data": {
            "text/plain": [
              "                                  reviewId          userName  \\\n",
              "6119  068ccedd-f9b4-4b13-acd5-36320e14d29c      Jeffrey Otto   \n",
              "3188  ed18e46f-0d10-47a7-975c-5daef461e841    Okhale Oziegbe   \n",
              "6923  6a6cd22c-72a0-4a4a-907f-69d4a2a1fd25        Ted Gilroy   \n",
              "7533  96ce81c3-c959-4f12-902f-637dcde01639     Archit Shukla   \n",
              "3783  c8cbd65d-712d-46c4-939e-b84712c6b146  Martin (iMarbot)   \n",
              "\n",
              "                                              userImage  \\\n",
              "6119  https://play-lh.googleusercontent.com/a-/ALV-U...   \n",
              "3188  https://play-lh.googleusercontent.com/a/ACg8oc...   \n",
              "6923  https://play-lh.googleusercontent.com/a/ACg8oc...   \n",
              "7533  https://play-lh.googleusercontent.com/a-/ALV-U...   \n",
              "3783  https://play-lh.googleusercontent.com/a-/ALV-U...   \n",
              "\n",
              "                                                content  score  thumbsUpCount  \\\n",
              "6119  At this time it doesn't allow new accounts, on...      1             71   \n",
              "3188  Competition breeds innovation, despite my dist...      4             41   \n",
              "6923  Gosh darn, I loved in the movie when they thre...      5              8   \n",
              "7533  So far so good ,hope it'll compete well with t...      4              1   \n",
              "3783  Home feed full of verified people you don't fo...      2            114   \n",
              "\n",
              "     reviewCreatedVersion                  at replyContent repliedAt  \\\n",
              "6119       289.0.0.77.109 2023-07-05 22:53:12         None      None   \n",
              "3188       289.0.0.77.109 2023-07-05 22:59:40         None      None   \n",
              "6923       289.0.0.77.109 2023-07-05 23:02:05         None      None   \n",
              "7533       289.0.0.77.109 2023-07-05 23:07:03         None      None   \n",
              "3783       289.0.0.77.109 2023-07-05 23:07:31         None      None   \n",
              "\n",
              "          appVersion      sortOrder                    appId  \n",
              "6119  289.0.0.77.109  most_relevant  com.instagram.barcelona  \n",
              "3188  289.0.0.77.109  most_relevant  com.instagram.barcelona  \n",
              "6923  289.0.0.77.109  most_relevant  com.instagram.barcelona  \n",
              "7533  289.0.0.77.109  most_relevant  com.instagram.barcelona  \n",
              "3783  289.0.0.77.109  most_relevant  com.instagram.barcelona  "
            ],
            "text/html": [
              "\n",
              "  <div id=\"df-8c970694-bfac-4099-b0fe-507d95178a47\" class=\"colab-df-container\">\n",
              "    <div>\n",
              "<style scoped>\n",
              "    .dataframe tbody tr th:only-of-type {\n",
              "        vertical-align: middle;\n",
              "    }\n",
              "\n",
              "    .dataframe tbody tr th {\n",
              "        vertical-align: top;\n",
              "    }\n",
              "\n",
              "    .dataframe thead th {\n",
              "        text-align: right;\n",
              "    }\n",
              "</style>\n",
              "<table border=\"1\" class=\"dataframe\">\n",
              "  <thead>\n",
              "    <tr style=\"text-align: right;\">\n",
              "      <th></th>\n",
              "      <th>reviewId</th>\n",
              "      <th>userName</th>\n",
              "      <th>userImage</th>\n",
              "      <th>content</th>\n",
              "      <th>score</th>\n",
              "      <th>thumbsUpCount</th>\n",
              "      <th>reviewCreatedVersion</th>\n",
              "      <th>at</th>\n",
              "      <th>replyContent</th>\n",
              "      <th>repliedAt</th>\n",
              "      <th>appVersion</th>\n",
              "      <th>sortOrder</th>\n",
              "      <th>appId</th>\n",
              "    </tr>\n",
              "  </thead>\n",
              "  <tbody>\n",
              "    <tr>\n",
              "      <th>6119</th>\n",
              "      <td>068ccedd-f9b4-4b13-acd5-36320e14d29c</td>\n",
              "      <td>Jeffrey Otto</td>\n",
              "      <td>https://play-lh.googleusercontent.com/a-/ALV-U...</td>\n",
              "      <td>At this time it doesn't allow new accounts, on...</td>\n",
              "      <td>1</td>\n",
              "      <td>71</td>\n",
              "      <td>289.0.0.77.109</td>\n",
              "      <td>2023-07-05 22:53:12</td>\n",
              "      <td>None</td>\n",
              "      <td>None</td>\n",
              "      <td>289.0.0.77.109</td>\n",
              "      <td>most_relevant</td>\n",
              "      <td>com.instagram.barcelona</td>\n",
              "    </tr>\n",
              "    <tr>\n",
              "      <th>3188</th>\n",
              "      <td>ed18e46f-0d10-47a7-975c-5daef461e841</td>\n",
              "      <td>Okhale Oziegbe</td>\n",
              "      <td>https://play-lh.googleusercontent.com/a/ACg8oc...</td>\n",
              "      <td>Competition breeds innovation, despite my dist...</td>\n",
              "      <td>4</td>\n",
              "      <td>41</td>\n",
              "      <td>289.0.0.77.109</td>\n",
              "      <td>2023-07-05 22:59:40</td>\n",
              "      <td>None</td>\n",
              "      <td>None</td>\n",
              "      <td>289.0.0.77.109</td>\n",
              "      <td>most_relevant</td>\n",
              "      <td>com.instagram.barcelona</td>\n",
              "    </tr>\n",
              "    <tr>\n",
              "      <th>6923</th>\n",
              "      <td>6a6cd22c-72a0-4a4a-907f-69d4a2a1fd25</td>\n",
              "      <td>Ted Gilroy</td>\n",
              "      <td>https://play-lh.googleusercontent.com/a/ACg8oc...</td>\n",
              "      <td>Gosh darn, I loved in the movie when they thre...</td>\n",
              "      <td>5</td>\n",
              "      <td>8</td>\n",
              "      <td>289.0.0.77.109</td>\n",
              "      <td>2023-07-05 23:02:05</td>\n",
              "      <td>None</td>\n",
              "      <td>None</td>\n",
              "      <td>289.0.0.77.109</td>\n",
              "      <td>most_relevant</td>\n",
              "      <td>com.instagram.barcelona</td>\n",
              "    </tr>\n",
              "    <tr>\n",
              "      <th>7533</th>\n",
              "      <td>96ce81c3-c959-4f12-902f-637dcde01639</td>\n",
              "      <td>Archit Shukla</td>\n",
              "      <td>https://play-lh.googleusercontent.com/a-/ALV-U...</td>\n",
              "      <td>So far so good ,hope it'll compete well with t...</td>\n",
              "      <td>4</td>\n",
              "      <td>1</td>\n",
              "      <td>289.0.0.77.109</td>\n",
              "      <td>2023-07-05 23:07:03</td>\n",
              "      <td>None</td>\n",
              "      <td>None</td>\n",
              "      <td>289.0.0.77.109</td>\n",
              "      <td>most_relevant</td>\n",
              "      <td>com.instagram.barcelona</td>\n",
              "    </tr>\n",
              "    <tr>\n",
              "      <th>3783</th>\n",
              "      <td>c8cbd65d-712d-46c4-939e-b84712c6b146</td>\n",
              "      <td>Martin (iMarbot)</td>\n",
              "      <td>https://play-lh.googleusercontent.com/a-/ALV-U...</td>\n",
              "      <td>Home feed full of verified people you don't fo...</td>\n",
              "      <td>2</td>\n",
              "      <td>114</td>\n",
              "      <td>289.0.0.77.109</td>\n",
              "      <td>2023-07-05 23:07:31</td>\n",
              "      <td>None</td>\n",
              "      <td>None</td>\n",
              "      <td>289.0.0.77.109</td>\n",
              "      <td>most_relevant</td>\n",
              "      <td>com.instagram.barcelona</td>\n",
              "    </tr>\n",
              "  </tbody>\n",
              "</table>\n",
              "</div>\n",
              "    <div class=\"colab-df-buttons\">\n",
              "\n",
              "  <div class=\"colab-df-container\">\n",
              "    <button class=\"colab-df-convert\" onclick=\"convertToInteractive('df-8c970694-bfac-4099-b0fe-507d95178a47')\"\n",
              "            title=\"Convert this dataframe to an interactive table.\"\n",
              "            style=\"display:none;\">\n",
              "\n",
              "  <svg xmlns=\"http://www.w3.org/2000/svg\" height=\"24px\" viewBox=\"0 -960 960 960\">\n",
              "    <path d=\"M120-120v-720h720v720H120Zm60-500h600v-160H180v160Zm220 220h160v-160H400v160Zm0 220h160v-160H400v160ZM180-400h160v-160H180v160Zm440 0h160v-160H620v160ZM180-180h160v-160H180v160Zm440 0h160v-160H620v160Z\"/>\n",
              "  </svg>\n",
              "    </button>\n",
              "\n",
              "  <style>\n",
              "    .colab-df-container {\n",
              "      display:flex;\n",
              "      gap: 12px;\n",
              "    }\n",
              "\n",
              "    .colab-df-convert {\n",
              "      background-color: #E8F0FE;\n",
              "      border: none;\n",
              "      border-radius: 50%;\n",
              "      cursor: pointer;\n",
              "      display: none;\n",
              "      fill: #1967D2;\n",
              "      height: 32px;\n",
              "      padding: 0 0 0 0;\n",
              "      width: 32px;\n",
              "    }\n",
              "\n",
              "    .colab-df-convert:hover {\n",
              "      background-color: #E2EBFA;\n",
              "      box-shadow: 0px 1px 2px rgba(60, 64, 67, 0.3), 0px 1px 3px 1px rgba(60, 64, 67, 0.15);\n",
              "      fill: #174EA6;\n",
              "    }\n",
              "\n",
              "    .colab-df-buttons div {\n",
              "      margin-bottom: 4px;\n",
              "    }\n",
              "\n",
              "    [theme=dark] .colab-df-convert {\n",
              "      background-color: #3B4455;\n",
              "      fill: #D2E3FC;\n",
              "    }\n",
              "\n",
              "    [theme=dark] .colab-df-convert:hover {\n",
              "      background-color: #434B5C;\n",
              "      box-shadow: 0px 1px 3px 1px rgba(0, 0, 0, 0.15);\n",
              "      filter: drop-shadow(0px 1px 2px rgba(0, 0, 0, 0.3));\n",
              "      fill: #FFFFFF;\n",
              "    }\n",
              "  </style>\n",
              "\n",
              "    <script>\n",
              "      const buttonEl =\n",
              "        document.querySelector('#df-8c970694-bfac-4099-b0fe-507d95178a47 button.colab-df-convert');\n",
              "      buttonEl.style.display =\n",
              "        google.colab.kernel.accessAllowed ? 'block' : 'none';\n",
              "\n",
              "      async function convertToInteractive(key) {\n",
              "        const element = document.querySelector('#df-8c970694-bfac-4099-b0fe-507d95178a47');\n",
              "        const dataTable =\n",
              "          await google.colab.kernel.invokeFunction('convertToInteractive',\n",
              "                                                    [key], {});\n",
              "        if (!dataTable) return;\n",
              "\n",
              "        const docLinkHtml = 'Like what you see? Visit the ' +\n",
              "          '<a target=\"_blank\" href=https://colab.research.google.com/notebooks/data_table.ipynb>data table notebook</a>'\n",
              "          + ' to learn more about interactive tables.';\n",
              "        element.innerHTML = '';\n",
              "        dataTable['output_type'] = 'display_data';\n",
              "        await google.colab.output.renderOutput(dataTable, element);\n",
              "        const docLink = document.createElement('div');\n",
              "        docLink.innerHTML = docLinkHtml;\n",
              "        element.appendChild(docLink);\n",
              "      }\n",
              "    </script>\n",
              "  </div>\n",
              "\n",
              "\n",
              "<div id=\"df-db15596b-76cf-4449-8ab9-752f2b74c203\">\n",
              "  <button class=\"colab-df-quickchart\" onclick=\"quickchart('df-db15596b-76cf-4449-8ab9-752f2b74c203')\"\n",
              "            title=\"Suggest charts.\"\n",
              "            style=\"display:none;\">\n",
              "\n",
              "<svg xmlns=\"http://www.w3.org/2000/svg\" height=\"24px\"viewBox=\"0 0 24 24\"\n",
              "     width=\"24px\">\n",
              "    <g>\n",
              "        <path d=\"M19 3H5c-1.1 0-2 .9-2 2v14c0 1.1.9 2 2 2h14c1.1 0 2-.9 2-2V5c0-1.1-.9-2-2-2zM9 17H7v-7h2v7zm4 0h-2V7h2v10zm4 0h-2v-4h2v4z\"/>\n",
              "    </g>\n",
              "</svg>\n",
              "  </button>\n",
              "\n",
              "<style>\n",
              "  .colab-df-quickchart {\n",
              "      --bg-color: #E8F0FE;\n",
              "      --fill-color: #1967D2;\n",
              "      --hover-bg-color: #E2EBFA;\n",
              "      --hover-fill-color: #174EA6;\n",
              "      --disabled-fill-color: #AAA;\n",
              "      --disabled-bg-color: #DDD;\n",
              "  }\n",
              "\n",
              "  [theme=dark] .colab-df-quickchart {\n",
              "      --bg-color: #3B4455;\n",
              "      --fill-color: #D2E3FC;\n",
              "      --hover-bg-color: #434B5C;\n",
              "      --hover-fill-color: #FFFFFF;\n",
              "      --disabled-bg-color: #3B4455;\n",
              "      --disabled-fill-color: #666;\n",
              "  }\n",
              "\n",
              "  .colab-df-quickchart {\n",
              "    background-color: var(--bg-color);\n",
              "    border: none;\n",
              "    border-radius: 50%;\n",
              "    cursor: pointer;\n",
              "    display: none;\n",
              "    fill: var(--fill-color);\n",
              "    height: 32px;\n",
              "    padding: 0;\n",
              "    width: 32px;\n",
              "  }\n",
              "\n",
              "  .colab-df-quickchart:hover {\n",
              "    background-color: var(--hover-bg-color);\n",
              "    box-shadow: 0 1px 2px rgba(60, 64, 67, 0.3), 0 1px 3px 1px rgba(60, 64, 67, 0.15);\n",
              "    fill: var(--button-hover-fill-color);\n",
              "  }\n",
              "\n",
              "  .colab-df-quickchart-complete:disabled,\n",
              "  .colab-df-quickchart-complete:disabled:hover {\n",
              "    background-color: var(--disabled-bg-color);\n",
              "    fill: var(--disabled-fill-color);\n",
              "    box-shadow: none;\n",
              "  }\n",
              "\n",
              "  .colab-df-spinner {\n",
              "    border: 2px solid var(--fill-color);\n",
              "    border-color: transparent;\n",
              "    border-bottom-color: var(--fill-color);\n",
              "    animation:\n",
              "      spin 1s steps(1) infinite;\n",
              "  }\n",
              "\n",
              "  @keyframes spin {\n",
              "    0% {\n",
              "      border-color: transparent;\n",
              "      border-bottom-color: var(--fill-color);\n",
              "      border-left-color: var(--fill-color);\n",
              "    }\n",
              "    20% {\n",
              "      border-color: transparent;\n",
              "      border-left-color: var(--fill-color);\n",
              "      border-top-color: var(--fill-color);\n",
              "    }\n",
              "    30% {\n",
              "      border-color: transparent;\n",
              "      border-left-color: var(--fill-color);\n",
              "      border-top-color: var(--fill-color);\n",
              "      border-right-color: var(--fill-color);\n",
              "    }\n",
              "    40% {\n",
              "      border-color: transparent;\n",
              "      border-right-color: var(--fill-color);\n",
              "      border-top-color: var(--fill-color);\n",
              "    }\n",
              "    60% {\n",
              "      border-color: transparent;\n",
              "      border-right-color: var(--fill-color);\n",
              "    }\n",
              "    80% {\n",
              "      border-color: transparent;\n",
              "      border-right-color: var(--fill-color);\n",
              "      border-bottom-color: var(--fill-color);\n",
              "    }\n",
              "    90% {\n",
              "      border-color: transparent;\n",
              "      border-bottom-color: var(--fill-color);\n",
              "    }\n",
              "  }\n",
              "</style>\n",
              "\n",
              "  <script>\n",
              "    async function quickchart(key) {\n",
              "      const quickchartButtonEl =\n",
              "        document.querySelector('#' + key + ' button');\n",
              "      quickchartButtonEl.disabled = true;  // To prevent multiple clicks.\n",
              "      quickchartButtonEl.classList.add('colab-df-spinner');\n",
              "      try {\n",
              "        const charts = await google.colab.kernel.invokeFunction(\n",
              "            'suggestCharts', [key], {});\n",
              "      } catch (error) {\n",
              "        console.error('Error during call to suggestCharts:', error);\n",
              "      }\n",
              "      quickchartButtonEl.classList.remove('colab-df-spinner');\n",
              "      quickchartButtonEl.classList.add('colab-df-quickchart-complete');\n",
              "    }\n",
              "    (() => {\n",
              "      let quickchartButtonEl =\n",
              "        document.querySelector('#df-db15596b-76cf-4449-8ab9-752f2b74c203 button');\n",
              "      quickchartButtonEl.style.display =\n",
              "        google.colab.kernel.accessAllowed ? 'block' : 'none';\n",
              "    })();\n",
              "  </script>\n",
              "</div>\n",
              "    </div>\n",
              "  </div>\n"
            ]
          },
          "metadata": {},
          "execution_count": 115
        }
      ]
    },
    {
      "cell_type": "code",
      "source": [
        "# Membuat dataframe baru hanya dengan kolom 'reviewId','content' dan 'score'\n",
        "df_trimmed_reviews = pd.DataFrame({'reviewId': [review['reviewId'] for review in app_reviews],\n",
        "                                   'content': [review['content'] for review in app_reviews],\n",
        "                                   'score': [review['score'] for review in app_reviews]})\n",
        "\n",
        "# Output dataframe baru\n",
        "print(df_trimmed_reviews)"
      ],
      "metadata": {
        "colab": {
          "base_uri": "https://localhost:8080/"
        },
        "id": "Ku-wE2g5c0zJ",
        "outputId": "ac2e01b4-a092-4a11-860c-ec36591b0f76"
      },
      "execution_count": null,
      "outputs": [
        {
          "output_type": "stream",
          "name": "stdout",
          "text": [
            "                                   reviewId  \\\n",
            "0      764601e7-e20c-411e-9224-f9c90e659e15   \n",
            "1      2e4384be-6c76-4551-b2a5-42bb5fa04419   \n",
            "2      4efedf5c-dcd5-4c63-b968-74898761efaa   \n",
            "3      8dd441f6-1c28-4432-bb36-1d569ba7eb75   \n",
            "4      f312536e-4afa-4e6f-b52d-cadf19a96a1f   \n",
            "...                                     ...   \n",
            "34880  45500b7f-d543-4d19-a042-62c9d993a8f8   \n",
            "34881  279ea7fa-f038-4cb2-9db3-cac9d0ca52f4   \n",
            "34882  7e5d9929-0442-4522-ad31-9b5084ace949   \n",
            "34883  f5464f0f-c9d3-410b-afc6-fd654b93a757   \n",
            "34884  d28c94f2-c471-4dd0-9408-d4fab0dd99d1   \n",
            "\n",
            "                                                 content  score  \n",
            "0      Meh. Not the greatest experience on a Chromebo...      2  \n",
            "1      For a brand new app, it's very well optimized....      3  \n",
            "2      Great app with a lot of potential! However, th...      3  \n",
            "3      I literally can't use the app. It won't let me...      1  \n",
            "4      The platform has potential, but the app, which...      3  \n",
            "...                                                  ...    ...  \n",
            "34880                                                bad      1  \n",
            "34881  It's just ok. It definitely isn't Twitter. No ...      2  \n",
            "34882                                          Nice ❤️‍🩹      5  \n",
            "34883  Very bad experience, poor, it can't be applica...      1  \n",
            "34884                              I am using first time      5  \n",
            "\n",
            "[34885 rows x 3 columns]\n"
          ]
        }
      ]
    },
    {
      "cell_type": "code",
      "source": [
        "df_trimmed_reviews.to_csv(path+'hasilreviewsFIX.csv', index=None, header=True)"
      ],
      "metadata": {
        "id": "kh83eYKJc9Ce"
      },
      "execution_count": null,
      "outputs": []
    }
  ]
}